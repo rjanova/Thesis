{
 "cells": [
  {
   "cell_type": "markdown",
   "metadata": {},
   "source": [
    "# Расчет беты"
   ]
  },
  {
   "cell_type": "code",
   "execution_count": null,
   "metadata": {
    "collapsed": true,
    "slideshow": {
     "slide_type": "slide"
    }
   },
   "outputs": [],
   "source": [
    "#Импорт библиотек\n",
    "import pandas as pd\n",
    "import numpy as np\n",
    "from scipy.stats import mstats\n",
    "import os\n",
    "import gc\n",
    "import matplotlib\n",
    "import matplotlib.pyplot as plt\n",
    "import statsmodels as sm\n",
    "import statsmodels.api as smp\n",
    "import statsmodels.formula.api as smf\n",
    "%matplotlib inline  "
   ]
  },
  {
   "cell_type": "markdown",
   "metadata": {},
   "source": [
    "Загрузка и обработка эксель-файла"
   ]
  },
  {
   "cell_type": "code",
   "execution_count": null,
   "metadata": {
    "collapsed": true
   },
   "outputs": [],
   "source": [
    "#Сырые данные\n",
    "close = pd.read_csv('C:/Py/final_data/close.csv', sep=';') # Цена закрытия\n",
    "vtb = pd.read_csv('C:/Py/final_data/vtb.csv', sep=';') # Отдельно для ВТБ, так как у блумберга недостаточно точные значения\n",
    "micex = pd.read_csv('C:/Py/Disser_data/micex.csv', sep=';') # Индекс\n",
    "date_control = pd.read_csv('C:/Py/final_data/control/date_control.csv', sep=';')\n",
    "months_control = pd.read_csv('C:/Py/final_data/control/months_control.csv', sep=';') # понадобится для создания портфелей по месяцам\n",
    "#Необходимо выбрать значения переменных в торговые дни. Для этого используется отдельная таблица Data_control \n",
    "date_control = date_control[['Data']].dropna() \n",
    "#Соединяем таблицы по общим значениям (inner join):\n",
    "close_values = pd.merge(close, date_control, how='inner', on=['Data']).drop('Data', 1)\n",
    "micex = pd.merge(micex, date_control, how='inner', on=['Data']).drop('Data', 1)\n",
    "vtb = pd.merge(vtb, date_control, how='inner', on=['Data']).drop('Data', 1)\n",
    "# Добавляем доходность индекса в цены закрытия:\n",
    "close_values['MICEX'] = micex['MICEX']\n",
    "close_values['VTBR RM Equity'] = vtb\n",
    "#Окно для расчета беты:\n",
    "window = 247"
   ]
  },
  {
   "cell_type": "markdown",
   "metadata": {},
   "source": [
    "Преобразование переменных"
   ]
  },
  {
   "cell_type": "code",
   "execution_count": null,
   "metadata": {
    "collapsed": true
   },
   "outputs": [],
   "source": [
    "#Записываем функцию для нахождения доходности. Представим доходности как отношения двух таблиц, отличающихся датой\n",
    "# Для дневных - дата смещается на один день. Для годовых - на год\n",
    "def day_returns(df):\n",
    "    df_1 = df.drop(0,0).reset_index(drop=True)\n",
    "    df_2 = df.drop(len(df)-1,0).reset_index(drop=True)\n",
    "    df_3 = pd.DataFrame(np.log(df_1.values) - np.log(df_2.values), columns=df_1.columns, index=df_1.index)\n",
    "    return df_3\n",
    "\n",
    "def year_returns(df):   \n",
    "    df_1 = df.ix[window:,:].reset_index(drop=True)\n",
    "    df_2 = df.ix[0:len(df)-window-1,:].reset_index(drop=True)\n",
    "    df_3 = pd.DataFrame(np.log(df_1.values) - np.log(df_2.values), columns=df_1.columns, index=df_1.index)\n",
    "    return df_3\n",
    "\n",
    "def month_returns(df, months_control):\n",
    "    d = pd.merge(df, months_control, how='inner', on=['Data']) # оставляем только месячные наблюдения\n",
    "    d = d.drop('Data', 1)\n",
    "    df_1 = d.drop(0,0).reset_index(drop=True)\n",
    "    df_2 = d.drop(len(d)-1,0).reset_index(drop=True)\n",
    "    df_3 = pd.DataFrame(np.log(df_1.values) - np.log(df_2.values), columns=df_1.columns, index=df_1.index)\n",
    "    df_3 = df_3.ix[11:len(df_3), :].reset_index(drop=True)\n",
    "    return df_3\n",
    "# Получаем доходности \n",
    "close_returns = day_returns(close_values)\n",
    "close_returns_y=year_returns(close_values)\n",
    "close_returns_m = month_returns(close, months_control)\n",
    "# Добавляем дату, чтобы выбрать отсюда месячные наблюдения\n",
    "close_returns_y['Data']=date_control['Data'][window:len(date_control)].reset_index(drop=True)\n",
    "close_returns_y_m = pd.merge(close_returns_y, months_control, how = 'inner', on = 'Data')\n"
   ]
  },
  {
   "cell_type": "markdown",
   "metadata": {},
   "source": [
    "Расчет беты"
   ]
  },
  {
   "cell_type": "code",
   "execution_count": null,
   "metadata": {
    "collapsed": true
   },
   "outputs": [],
   "source": [
    "def d_betas_func(df,window):\n",
    "    d_betas = pd.DataFrame()\n",
    "    for i in range(0, (len(df)-window)): # петля по окну\n",
    "        d = df.ix[i:(window+i),:]\n",
    "        micex_mean = d['MICEX'].mean()\n",
    "        d = d.ix[(d['MICEX']<micex_mean)] # выбираем наблюдения, где рыночная доходность меньше нуля\n",
    "        market_variance = np.var(d['MICEX']) # считаем полудисперсию рынка\n",
    "        betas = pd.DataFrame()\n",
    "        for column in d:\n",
    "            beta = np.cov(d[column], d['MICEX'])[0,1]/market_variance\n",
    "            betas[column]=pd.Series(beta)\n",
    "        d_betas = d_betas.append(betas, ignore_index=True)\n",
    "    gc.collect()\n",
    "    return d_betas\n",
    "\n",
    "def d_est_betas_func(df,window):\n",
    "    d_betas = pd.DataFrame()\n",
    "    for i in range(0, (len(df)-window)): # петля по окну\n",
    "        d = df.ix[i:(window+i),:]\n",
    "        d = d.ix[(d['MICEX']<d['MICEX'].mean())] # выбираем наблюдения, где рыночная доходность меньше среднего\n",
    "        market_variance = np.var(d['MICEX']) # считаем полудисперсию рынка\n",
    "        betas = pd.DataFrame()\n",
    "        for column in d:\n",
    "            d_s = d.ix[(d[column]<d['MICEX'].mean())] # выбираем наблюдения, где доходность компании меньше среднего\n",
    "            beta = np.cov(d_s[column], d_s['MICEX'])[0,1]/market_variance\n",
    "            betas[column]=pd.Series(beta)\n",
    "        d_betas = d_betas.append(betas, ignore_index=True)\n",
    "    gc.collect()\n",
    "    return d_betas\n",
    "\n",
    "def up_betas_func(df,window):\n",
    "    up_betas = pd.DataFrame()\n",
    "    for i in range(0, (len(df)-window)): # петля по окну\n",
    "        d=df.ix[i:window+i,:]\n",
    "        micex_mean = d['MICEX'].mean()\n",
    "        d = d.ix[(df['MICEX']>micex_mean)] # выбираем наблюдения, где рыночная доходность меньше нуля\n",
    "        market_variance = np.var(d['MICEX']) # считаем полудисперсию рынка\n",
    "        betas = pd.DataFrame()\n",
    "        for column in d:\n",
    "            beta = np.cov(d[column], d['MICEX'])[0,1]/market_variance\n",
    "            betas[column]=pd.Series(beta)\n",
    "        up_betas = up_betas.append(betas, ignore_index=True)\n",
    "    gc.collect()\n",
    "    return up_betas\n",
    "\n",
    "def capm_betas_func(df,window):\n",
    "    capm_betas = pd.DataFrame()\n",
    "    for i in range(0, (len(df)-window)): # петля по окну\n",
    "        d=df.ix[i:window+i,:]\n",
    "        market_variance = np.var(d['MICEX']) # считаем дисперсию рынка\n",
    "        betas = pd.DataFrame()\n",
    "        for column in d:\n",
    "            beta = np.cov(d[column], d['MICEX'])[0,1]/market_variance\n",
    "            betas[column]=pd.Series(beta)\n",
    "        capm_betas = capm_betas.append(betas, ignore_index=True)\n",
    "    gc.collect()\n",
    "    return capm_betas"
   ]
  },
  {
   "cell_type": "code",
   "execution_count": null,
   "metadata": {
    "collapsed": true
   },
   "outputs": [],
   "source": [
    "# Записываем беты в один словарь\n",
    "beta = ['d_est_betas', 'd_betas', 'up_betas', 'capm_betas']\n",
    "frames={}\n",
    "for b in beta:\n",
    "    frames[b] = globals()[b +'_func'](close_returns, window)"
   ]
  },
  {
   "cell_type": "markdown",
   "metadata": {},
   "source": [
    "Расчет спреда между бетами"
   ]
  },
  {
   "cell_type": "code",
   "execution_count": null,
   "metadata": {
    "collapsed": true
   },
   "outputs": [],
   "source": [
    "frames['beta_spread'] = pd.DataFrame(frames[beta[1]]-frames[beta[2]], columns=frames[beta[1]].columns, index=frames[beta[1]].index)\n",
    "frames['beta_spread_d'] = pd.DataFrame(frames[beta[1]]-frames[beta[3]], columns=frames[beta[1]].columns, index=frames[beta[1]].index)\n",
    "frames['beta_spread_up'] = pd.DataFrame(frames[beta[2]]-frames[beta[3]], columns=frames[beta[1]].columns, index=frames[beta[1]].index)\n",
    "def handeling(df):\n",
    "    d = df\n",
    "    d['Data'] = date_control['Data'][window:len(date_control)].reset_index(drop=True)\n",
    "    d = pd.merge(d, months_control, how = 'inner', on = 'Data')\n",
    "    d = d.drop(['MICEX','Data'], 1)\n",
    "    return d\n",
    "frames_m = {}\n",
    "for k, df in frames.iteritems():\n",
    "    frames_m[k] = handeling(df)\n",
    "# Проводим Windworizing выборки на уровне беты и доходности (для всех периодов). Заменяем значения выше(ниже) 95(05) квантиля\n",
    "def winsor(df):\n",
    "    d = pd.DataFrame(columns=df.columns)\n",
    "    for t in range(0, len(df)):\n",
    "        win = mstats.winsorize(df.loc[t], limits=[0.05, 0.05])\n",
    "        win_d = pd.DataFrame(np.asarray(win).reshape(1,-1), columns= df.columns)\n",
    "        d = d.append(win_d, ignore_index = True)\n",
    "    return d"
   ]
  },
  {
   "cell_type": "code",
   "execution_count": null,
   "metadata": {
    "collapsed": true
   },
   "outputs": [],
   "source": [
    "# без винзоризации\n",
    "close_returns_y_m= close_returns_y_m[frames_m['capm_betas'].columns]\n",
    "close_returns_m= close_returns_m[frames_m['capm_betas'].columns]\n",
    "frames_return = {}\n",
    "frames_return['close_returns'] = (close_returns)\n",
    "frames_return['close_returns_m'] = (close_returns_m)\n",
    "frames_return['close_returns_y_m'] = (close_returns_y_m)\n",
    "frames_beta = {}\n",
    "for k, df in frames_m.iteritems():\n",
    "    frames_beta[k] = (df)\n",
    "# Записываем данные\n",
    "interim_path = 'C:/Py/disser_output/interim_2_without_winsor/betas/'\n",
    "for k, df in frames_beta.iteritems():\n",
    "     df.to_csv(interim_path+k+'.csv', index = False, sep = ',' )    \n",
    "interim_path = 'C:/Py/disser_output/interim_2_without_winsor/returns/'\n",
    "for k, df in frames_return.iteritems():\n",
    "     df.to_csv(interim_path+k+'.csv', index = False, sep = ',' )"
   ]
  },
  {
   "cell_type": "code",
   "execution_count": null,
   "metadata": {
    "collapsed": true
   },
   "outputs": [],
   "source": [
    "beta_mean = []\n",
    "for k, df in frames_beta.iteritems():\n",
    "    beta_mean.append(df.mean().mean())"
   ]
  },
  {
   "cell_type": "code",
   "execution_count": null,
   "metadata": {
    "collapsed": true
   },
   "outputs": [],
   "source": [
    "# с винзоризацией\n",
    "close_returns_y_m= close_returns_y_m[frames_m['capm_betas'].columns]\n",
    "close_returns_m= close_returns_m[frames_m['capm_betas'].columns]\n",
    "frames_return = {}\n",
    "frames_return['close_returns'] = winsor(close_returns)\n",
    "frames_return['close_returns_m'] = winsor(close_returns_m)\n",
    "frames_return['close_returns_y_m'] = winsor(close_returns_y_m)\n",
    "frames_beta = {}\n",
    "for k, df in frames_m.iteritems():\n",
    "    frames_beta[k] = winsor(df)\n",
    "# Записываем данные\n",
    "interim_path = 'C:/Py/disser_output/interim_2/betas/'\n",
    "for k, df in frames_beta.iteritems():\n",
    "     df.to_csv(interim_path+k+'.csv', index = False, sep = ',' )    \n",
    "interim_path = 'C:/Py/disser_output/interim_2/returns/'\n",
    "for k, df in frames_return.iteritems():\n",
    "     df.to_csv(interim_path+k+'.csv', index = False, sep = ',' )"
   ]
  }
 ],
 "metadata": {
  "kernelspec": {
   "display_name": "Python 2",
   "language": "python",
   "name": "python2"
  },
  "language_info": {
   "codemirror_mode": {
    "name": "ipython",
    "version": 2
   },
   "file_extension": ".py",
   "mimetype": "text/x-python",
   "name": "python",
   "nbconvert_exporter": "python",
   "pygments_lexer": "ipython2",
   "version": "2.7.11"
  }
 },
 "nbformat": 4,
 "nbformat_minor": 1
}
