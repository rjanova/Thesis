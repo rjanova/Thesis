{
 "cells": [
  {
   "cell_type": "markdown",
   "metadata": {},
   "source": [
    "# CAPM модель на российском фондовом рынке"
   ]
  },
  {
   "cell_type": "code",
   "execution_count": 1,
   "metadata": {
    "collapsed": false
   },
   "outputs": [],
   "source": [
    "import pandas as pd\n",
    "import numpy as np\n",
    "import statsmodels as sm\n",
    "import statsmodels.api as smp\n",
    "import statsmodels.formula.api as smf\n",
    "from scipy import stats\n",
    "from scipy.stats import ttest_ind\n",
    "from itertools import chain\n",
    "import os\n",
    "from scipy import optimize\n",
    "import matplotlib as mt\n",
    "import matplotlib.pyplot as plt\n",
    "import gc\n",
    "from __future__ import division\n",
    "import cvxopt as opt\n",
    "from cvxopt import blas, solvers\n",
    "%matplotlib inline  \n",
    "pd.set_option('display.float_format', lambda x: '%.4f' % x)"
   ]
  },
  {
   "cell_type": "markdown",
   "metadata": {},
   "source": [
    "##Загрузка данных"
   ]
  },
  {
   "cell_type": "code",
   "execution_count": 2,
   "metadata": {
    "collapsed": false
   },
   "outputs": [],
   "source": [
    "mypath = 'C:/Py/disser_output/interim_2/betas/' # бета \n",
    "files = [f for f in os.listdir(mypath) if os.path.isfile(os.path.join(mypath, f))]\n",
    "beta_frames = {}\n",
    "for f in files:\n",
    "    beta_frames[os.path.splitext(f)[0]] = pd.read_csv(os.path.join(mypath, f), sep = ',')\n",
    "mypath = 'C:/Py/disser_output/interim_2/returns/' # доходности\n",
    "files = [f for f in os.listdir(mypath) if os.path.isfile(os.path.join(mypath, f))]\n",
    "return_frames = {}\n",
    "for f in files:\n",
    "    return_frames[os.path.splitext(f)[0]] = pd.read_csv(os.path.join(mypath, f), sep = ',')    \n",
    "bid = pd.read_csv('C:/Py/final_data/bid.csv', sep=';')\n",
    "mom_year = pd.read_csv('C:/Py/final_data/mom_year.csv', sep=';')\n",
    "mom_month = pd.read_csv('C:/Py/final_data/mom_month.csv', sep=';')\n",
    "ask = pd.read_csv('C:/Py/final_data/ask.csv', sep=';')\n",
    "close = pd.read_csv('C:/Py/final_data/close.csv', sep=';')\n",
    "total_assets = pd.read_csv('C:/Py/final_data/tot_equity.csv', sep=';')\n",
    "market_cap = pd.read_csv('C:/Py/final_data/Market_cap.csv', sep=';')\n",
    "date_control = pd.read_csv('C:/Py/final_data/control/date_control.csv', sep=';')\n",
    "months_control = pd.read_csv('C:/Py/final_data/control/months_control.csv', sep=';')\n",
    "p_b = pd.read_csv('C:/Py/final_data/p_b.csv', sep=';')\n",
    "#Окно для расчета беты (год):\n",
    "window = 247\n",
    "def handle(df, date_control, window):# Функция для обработки данных\n",
    "    d = df[close.columns]\n",
    "    d = pd.merge(d, date_control, how='inner', on=['Data']).loc[window:].reset_index(drop = True)\n",
    "    d = d.drop('Data', 1)\n",
    "    return d\n",
    "bid_values = handle(bid, date_control, window)\n",
    "market_cap_values = handle(market_cap, months_control, 12)\n",
    "ask_values = handle(ask, date_control, window)\n",
    "total_assets_values=handle(total_assets, months_control, 12)\n",
    "p_b = handle(p_b, months_control, 12)\n",
    "for_s = handle(close, months_control, 12)\n",
    "#Логарифм рыночной стоимости:\n",
    "ln_market_value = pd.DataFrame(np.log(market_cap_values.values), columns=market_cap_values.columns, index=market_cap_values.index)\n",
    "# Отношение рыночной и балансовой стоимости\n",
    "market_cap_values = market_cap_values.ix[(len(market_cap_values)-len(total_assets_values)):,:].reset_index(drop=True)\n",
    "#b_to_m = pd.DataFrame(total_assets_values.values/market_cap_values.values, columns=total_assets_values.columns, index=total_assets_values.index)\n",
    "b_to_m = pd.DataFrame(1/p_b.values, columns=total_assets_values.columns, index=total_assets_values.index)\n",
    "# Моментум эффект\n",
    "momentum_y = mom_year.loc[0:(len(mom_year)-13)].drop('Data', axis = 1)\n",
    "momentum_m = mom_month.loc[11:(len(mom_month)-2)].drop('Data', axis = 1).reset_index(drop=True)\n"
   ]
  },
  {
   "cell_type": "code",
   "execution_count": 5,
   "metadata": {
    "collapsed": false
   },
   "outputs": [],
   "source": [
    "# Определяем спред как среднедневной спред за месяц\n",
    "spread = pd.DataFrame(abs(bid_values.values - ask_values.values), columns=bid_values.columns, index=bid_values.index)\n",
    "mid_price = pd.DataFrame((bid_values.values + ask_values.values)/2, columns=bid_values.columns, index=bid_values.index)\n",
    "average_spread = pd.DataFrame(columns=ln_market_value.columns)\n",
    "for t in range(0, len(spread), 21):\n",
    "    s = spread.loc[t:t+20]\n",
    "    mid = mid_price.loc[t:t+20]\n",
    "    m = []\n",
    "    for c in s:\n",
    "        if c == 'VTBR RM Equity':\n",
    "            s_m = np.mean(s[c])/np.mean(mid[c])\n",
    "        else:   \n",
    "            c_sp = [x for x in s[c] if x>0]\n",
    "            s_m = np.mean(c_sp)/np.mean(mid[c])\n",
    "        m.append(s_m)\n",
    "    average_spread.loc[t] = m\n",
    "average_spread = average_spread.reset_index(drop = True)"
   ]
  },
  {
   "cell_type": "code",
   "execution_count": 8,
   "metadata": {
    "collapsed": false
   },
   "outputs": [
    {
     "data": {
      "text/plain": [
       "MOEX RM Equity        0.001826\n",
       "MTSS     RM Equity    0.001853\n",
       "MGNT RM Equity        0.001883\n",
       "AFLT RM Equity        0.001974\n",
       "SIBN RM Equity        0.002218\n",
       "dtype: float64"
      ]
     },
     "execution_count": 8,
     "metadata": {},
     "output_type": "execute_result"
    }
   ],
   "source": [
    "# Самые ликвидные акции исходя из относительного среднего спреда\n",
    "average_spread.mean().sort_values().head(5)"
   ]
  },
  {
   "cell_type": "code",
   "execution_count": 9,
   "metadata": {
    "collapsed": true
   },
   "outputs": [],
   "source": [
    "# Формируем одинаковую струтктуру пропусков\n",
    "def assign_nan(df, beta):\n",
    "    d = df.fillna(df.median())\n",
    "    d = d.replace(1, 1.01)\n",
    "    outliars = beta.isnull() # na\n",
    "    outliars.update(d, filter_func=lambda x: (x == False))\n",
    "    d = outliars.replace(1, float('nan'))\n",
    "    return d\n",
    "average_spread = assign_nan(average_spread, beta_frames['capm_betas'])"
   ]
  },
  {
   "cell_type": "code",
   "execution_count": 10,
   "metadata": {
    "collapsed": false
   },
   "outputs": [],
   "source": [
    "def get_quant(df, q_list): # функция для определения квантилей\n",
    "    d_quantiles = df.quantile(q_list, axis = 1)\n",
    "    d_quantiles['quant']= d_quantiles.index\n",
    "    d_quantiles= d_quantiles.reset_index(drop=True)\n",
    "    return d_quantiles\n",
    "def get_med_bet(df, beta): # функция для определения беты для характеристики компании выже/ниже медианы\n",
    "    char_mean = df.mean().median() # число\n",
    "    char = df.mean() # средний показатель для каждой компании\n",
    "    betas_mean = beta.mean() # средняя бета для каждой компании\n",
    "    beta_high = []\n",
    "    beta_low = []\n",
    "    for i in range(0, len(char)): # для каждой компании\n",
    "        if char[i] <= char_mean:\n",
    "            beta_low.append(beta.mean()[i])\n",
    "        else:\n",
    "            beta_high.append(beta.mean()[i])\n",
    "    medians = {'high-ch beta': np.median(beta_high), 'low-ch beta': np.median(beta_low)}\n",
    "    return medians\n",
    "def find_ch_quant(df):# функция, чтобы собрать в единый файл\n",
    "    d = {'high-ch beta':[], 'low-ch beta':[]}\n",
    "    for k, beta in beta_frames.iteritems():\n",
    "        b = get_med_bet(df, beta)\n",
    "        d['high-ch beta'].append(b.items()[0][1])\n",
    "        d['low-ch beta'].append(b.items()[1][1])\n",
    "    betas = pd.DataFrame()\n",
    "    betas = betas.from_dict(d)\n",
    "    betas['beta'] = [df.name + ' ' + f for f in beta_frames.keys()][:]\n",
    "    return betas\n",
    "control_frames = {'average_spread': average_spread, 'mc': ln_market_value, 'b_to_m': b_to_m}\n",
    "average_spread.name = 'average_spread '\n",
    "ln_market_value.name = 'mc '\n",
    "b_to_m.name = 'bm '\n",
    "beta_av = find_ch_quant(average_spread)\n",
    "beta_mc = find_ch_quant(ln_market_value)\n",
    "beta_bm = find_ch_quant(b_to_m)\n",
    "beta_by_characteristics = pd.concat([beta_av, beta_mc, beta_bm])"
   ]
  },
  {
   "cell_type": "code",
   "execution_count": 11,
   "metadata": {
    "collapsed": false
   },
   "outputs": [
    {
     "data": {
      "text/html": [
       "<div>\n",
       "<table border=\"1\" class=\"dataframe\">\n",
       "  <thead>\n",
       "    <tr style=\"text-align: right;\">\n",
       "      <th></th>\n",
       "      <th>high-ch beta</th>\n",
       "      <th>low-ch beta</th>\n",
       "      <th>beta</th>\n",
       "    </tr>\n",
       "  </thead>\n",
       "  <tbody>\n",
       "    <tr>\n",
       "      <th>0</th>\n",
       "      <td>0.198132</td>\n",
       "      <td>0.032185</td>\n",
       "      <td>average_spread  beta_spread</td>\n",
       "    </tr>\n",
       "    <tr>\n",
       "      <th>1</th>\n",
       "      <td>0.708506</td>\n",
       "      <td>0.854861</td>\n",
       "      <td>average_spread  up_betas</td>\n",
       "    </tr>\n",
       "    <tr>\n",
       "      <th>2</th>\n",
       "      <td>-0.029222</td>\n",
       "      <td>-0.002732</td>\n",
       "      <td>average_spread  beta_spread_up</td>\n",
       "    </tr>\n",
       "    <tr>\n",
       "      <th>3</th>\n",
       "      <td>0.762646</td>\n",
       "      <td>0.854972</td>\n",
       "      <td>average_spread  capm_betas</td>\n",
       "    </tr>\n",
       "    <tr>\n",
       "      <th>4</th>\n",
       "      <td>0.133127</td>\n",
       "      <td>0.045361</td>\n",
       "      <td>average_spread  beta_spread_d</td>\n",
       "    </tr>\n",
       "    <tr>\n",
       "      <th>5</th>\n",
       "      <td>1.031105</td>\n",
       "      <td>0.898951</td>\n",
       "      <td>average_spread  d_est_betas</td>\n",
       "    </tr>\n",
       "    <tr>\n",
       "      <th>6</th>\n",
       "      <td>0.887904</td>\n",
       "      <td>0.871368</td>\n",
       "      <td>average_spread  d_betas</td>\n",
       "    </tr>\n",
       "    <tr>\n",
       "      <th>0</th>\n",
       "      <td>0.004699</td>\n",
       "      <td>0.201471</td>\n",
       "      <td>mc  beta_spread</td>\n",
       "    </tr>\n",
       "    <tr>\n",
       "      <th>1</th>\n",
       "      <td>0.914475</td>\n",
       "      <td>0.686671</td>\n",
       "      <td>mc  up_betas</td>\n",
       "    </tr>\n",
       "    <tr>\n",
       "      <th>2</th>\n",
       "      <td>0.040267</td>\n",
       "      <td>-0.050776</td>\n",
       "      <td>mc  beta_spread_up</td>\n",
       "    </tr>\n",
       "    <tr>\n",
       "      <th>3</th>\n",
       "      <td>0.864464</td>\n",
       "      <td>0.766402</td>\n",
       "      <td>mc  capm_betas</td>\n",
       "    </tr>\n",
       "    <tr>\n",
       "      <th>4</th>\n",
       "      <td>0.028815</td>\n",
       "      <td>0.152793</td>\n",
       "      <td>mc  beta_spread_d</td>\n",
       "    </tr>\n",
       "    <tr>\n",
       "      <th>5</th>\n",
       "      <td>0.880990</td>\n",
       "      <td>1.158386</td>\n",
       "      <td>mc  d_est_betas</td>\n",
       "    </tr>\n",
       "    <tr>\n",
       "      <th>6</th>\n",
       "      <td>0.879120</td>\n",
       "      <td>0.882960</td>\n",
       "      <td>mc  d_betas</td>\n",
       "    </tr>\n",
       "    <tr>\n",
       "      <th>0</th>\n",
       "      <td>0.108094</td>\n",
       "      <td>0.119352</td>\n",
       "      <td>bm  beta_spread</td>\n",
       "    </tr>\n",
       "    <tr>\n",
       "      <th>1</th>\n",
       "      <td>0.825726</td>\n",
       "      <td>0.724767</td>\n",
       "      <td>bm  up_betas</td>\n",
       "    </tr>\n",
       "    <tr>\n",
       "      <th>2</th>\n",
       "      <td>0.001528</td>\n",
       "      <td>-0.027651</td>\n",
       "      <td>bm  beta_spread_up</td>\n",
       "    </tr>\n",
       "    <tr>\n",
       "      <th>3</th>\n",
       "      <td>0.851127</td>\n",
       "      <td>0.762646</td>\n",
       "      <td>bm  capm_betas</td>\n",
       "    </tr>\n",
       "    <tr>\n",
       "      <th>4</th>\n",
       "      <td>0.094191</td>\n",
       "      <td>0.082013</td>\n",
       "      <td>bm  beta_spread_d</td>\n",
       "    </tr>\n",
       "    <tr>\n",
       "      <th>5</th>\n",
       "      <td>1.059607</td>\n",
       "      <td>0.914115</td>\n",
       "      <td>bm  d_est_betas</td>\n",
       "    </tr>\n",
       "    <tr>\n",
       "      <th>6</th>\n",
       "      <td>0.923638</td>\n",
       "      <td>0.863771</td>\n",
       "      <td>bm  d_betas</td>\n",
       "    </tr>\n",
       "  </tbody>\n",
       "</table>\n",
       "</div>"
      ],
      "text/plain": [
       "   high-ch beta  low-ch beta                            beta\n",
       "0      0.198132     0.032185     average_spread  beta_spread\n",
       "1      0.708506     0.854861        average_spread  up_betas\n",
       "2     -0.029222    -0.002732  average_spread  beta_spread_up\n",
       "3      0.762646     0.854972      average_spread  capm_betas\n",
       "4      0.133127     0.045361   average_spread  beta_spread_d\n",
       "5      1.031105     0.898951     average_spread  d_est_betas\n",
       "6      0.887904     0.871368         average_spread  d_betas\n",
       "0      0.004699     0.201471                 mc  beta_spread\n",
       "1      0.914475     0.686671                    mc  up_betas\n",
       "2      0.040267    -0.050776              mc  beta_spread_up\n",
       "3      0.864464     0.766402                  mc  capm_betas\n",
       "4      0.028815     0.152793               mc  beta_spread_d\n",
       "5      0.880990     1.158386                 mc  d_est_betas\n",
       "6      0.879120     0.882960                     mc  d_betas\n",
       "0      0.108094     0.119352                 bm  beta_spread\n",
       "1      0.825726     0.724767                    bm  up_betas\n",
       "2      0.001528    -0.027651              bm  beta_spread_up\n",
       "3      0.851127     0.762646                  bm  capm_betas\n",
       "4      0.094191     0.082013               bm  beta_spread_d\n",
       "5      1.059607     0.914115                 bm  d_est_betas\n",
       "6      0.923638     0.863771                     bm  d_betas"
      ]
     },
     "execution_count": 11,
     "metadata": {},
     "output_type": "execute_result"
    }
   ],
   "source": [
    "# Бета компаний с различными характеристиками\n",
    "beta_by_characteristics"
   ]
  },
  {
   "cell_type": "markdown",
   "metadata": {},
   "source": [
    "## Построение средневзвешенных портфелей для активов с различным уровнем систематического риска"
   ]
  },
  {
   "cell_type": "code",
   "execution_count": 12,
   "metadata": {
    "collapsed": false
   },
   "outputs": [],
   "source": [
    "q_list = [0.25,0.5, 0.75]\n",
    "def portfolio_return(df, beta):\n",
    "    high_beta_comp = pd.DataFrame()\n",
    "    low_beta_comp = pd.DataFrame()\n",
    "    d_quantiles = get_quant(beta, q_list)\n",
    "    d_portfolio_quant = pd.DataFrame()\n",
    "    beta_return_0=pd.DataFrame()\n",
    "    beta_return_25=pd.DataFrame()\n",
    "    beta_return_50 = pd.DataFrame()\n",
    "    beta_return_75 = pd.DataFrame()\n",
    "    for i in range(0, len(beta)): # для каждого месяца\n",
    "        beta_company_0 = []\n",
    "        beta_company_25 = []\n",
    "        beta_company_50 = []\n",
    "        beta_company_75 = []\n",
    "        for column in df: # для каждой компании\n",
    "            b = beta.ix[i,column] # бета этого месяца\n",
    "            if (b <= d_quantiles.ix[0,i]): # если меньше квантиля, то сохраним название колонки\n",
    "                beta_company_0.append(column)\n",
    "            if (b <= d_quantiles.ix[1,i]):\n",
    "                beta_company_25.append(column)\n",
    "            if (b <= d_quantiles.ix[2,i]):\n",
    "                beta_company_50.append(column)\n",
    "            if (b > d_quantiles.ix[2,i]):\n",
    "                beta_company_75.append(column)\n",
    "        high_beta_comp = high_beta_comp.append(beta_company_75)\n",
    "        low_beta_comp = low_beta_comp.append(beta_company_0)\n",
    "        mean_0 = df.ix[i,  beta_company_0].mean(axis = 0)       \n",
    "        mean_25 = df.ix[i, beta_company_25].mean(axis = 0) \n",
    "        mean_50 = df.ix[i, beta_company_50].mean(axis = 0) \n",
    "        mean_75 = df.ix[i, beta_company_75].mean(axis = 0) \n",
    "        beta_return_0 = beta_return_0.append(pd.Series(mean_0), ignore_index=True)\n",
    "        beta_return_25 = beta_return_25.append(pd.Series(mean_25), ignore_index=True)\n",
    "        beta_return_50 = beta_return_50.append(pd.Series(mean_50), ignore_index=True)\n",
    "        beta_return_75 = beta_return_75.append(pd.Series(mean_75), ignore_index=True)\n",
    "\n",
    "    d_portfolio_quant['quant75'] = beta_return_75[0]\n",
    "    d_portfolio_quant['quant50'] = beta_return_50[0]\n",
    "    d_portfolio_quant['quant25'] = beta_return_25[0]\n",
    "    d_portfolio_quant['quant0'] = beta_return_0[0]\n",
    "    d_portfolio_quant['Spread'] = beta_return_75[0] - beta_return_0[0]\n",
    "    return d_portfolio_quant, high_beta_comp, low_beta_comp"
   ]
  },
  {
   "cell_type": "code",
   "execution_count": 13,
   "metadata": {
    "collapsed": true
   },
   "outputs": [],
   "source": [
    "h_beta = portfolio_return(return_frames['close_returns_y_m'], beta_frames['capm_betas'])[1]\n",
    "l_beta = portfolio_return(return_frames['close_returns_y_m'], beta_frames['capm_betas'])[2]"
   ]
  },
  {
   "cell_type": "code",
   "execution_count": 19,
   "metadata": {
    "collapsed": true
   },
   "outputs": [],
   "source": [
    "# Записываем портфели\n",
    "portfolio_frames = {}    \n",
    "for k, beta in beta_frames.iteritems():\n",
    "    portfolio_frames[k+'_portfolio'] = portfolio_return(return_frames['close_returns_y_m'], beta)[0]\n",
    "    #portfolio_frames[k+'_portfolio'].to_csv('C:/Py/disser_output/year_results/' + k+'_portfolio.csv', index = False, sep = ',')\n"
   ]
  },
  {
   "cell_type": "markdown",
   "metadata": {},
   "source": [
    "## Проводим тест на значимость отличий"
   ]
  },
  {
   "cell_type": "code",
   "execution_count": 20,
   "metadata": {
    "collapsed": false
   },
   "outputs": [],
   "source": [
    "# проведение теста. Для проведения теста мы используем результаты с месячной частотой, когда сама бета рассчитывалась на годе.\n",
    "# Соотвестветственно, будет наблюдаться автокорреляция. Поэтому нужно использовать регрессию с HAC ковар.матрицей, 11 лагов\n",
    "def get_t_test_HAC(df):\n",
    "    l = len(np.asarray(df.ix[:,0]).reshape(-1,1))\n",
    "    x_1 = np.concatenate((np.ones((1,l)).reshape(-1,1), np.zeros((1,l)).reshape(-1,1)))\n",
    "    x = sm.tools.add_constant(x_1)\n",
    "    y = np.concatenate((np.asarray(df.ix[:,0]).reshape(-1,1), np.asarray(df.ix[:,3]).reshape(-1,1))) # значение доходности\n",
    "    model = smf.OLS(y, x)\n",
    "    res=model.fit(cov_type='HAC', cov_kwds={'maxlags':11})\n",
    "    res.summary()\n",
    "    d = {'t-stat':res.tvalues[1], 'p-value':res.pvalues[1]}\n",
    "    return d\n",
    "# применяем к портфелям\n",
    "tests = {'p-value':[], 't-stat':[]}\n",
    "for k, p in portfolio_frames.iteritems():\n",
    "    t = get_t_test_HAC(p)\n",
    "    tests['p-value'].append(t.items()[0][1])\n",
    "    tests['t-stat'].append(t.items()[1][1])\n",
    "portfolio_test_HAC = pd.DataFrame()\n",
    "portfolio_test_HAC = portfolio_test_HAC.from_dict(tests)\n",
    "portfolio_test_HAC['beta'] = [f for f in portfolio_frames.keys()]"
   ]
  },
  {
   "cell_type": "code",
   "execution_count": 21,
   "metadata": {
    "collapsed": false
   },
   "outputs": [
    {
     "data": {
      "text/html": [
       "<div>\n",
       "<table border=\"1\" class=\"dataframe\">\n",
       "  <thead>\n",
       "    <tr style=\"text-align: right;\">\n",
       "      <th></th>\n",
       "      <th>p-value</th>\n",
       "      <th>t-stat</th>\n",
       "      <th>beta</th>\n",
       "    </tr>\n",
       "  </thead>\n",
       "  <tbody>\n",
       "    <tr>\n",
       "      <th>0</th>\n",
       "      <td>0.024305</td>\n",
       "      <td>-2.252272</td>\n",
       "      <td>capm_betas_portfolio</td>\n",
       "    </tr>\n",
       "    <tr>\n",
       "      <th>1</th>\n",
       "      <td>0.896789</td>\n",
       "      <td>-0.129719</td>\n",
       "      <td>beta_spread_up_portfolio</td>\n",
       "    </tr>\n",
       "    <tr>\n",
       "      <th>2</th>\n",
       "      <td>0.528282</td>\n",
       "      <td>-0.630631</td>\n",
       "      <td>beta_spread_d_portfolio</td>\n",
       "    </tr>\n",
       "    <tr>\n",
       "      <th>3</th>\n",
       "      <td>0.908185</td>\n",
       "      <td>-0.115328</td>\n",
       "      <td>beta_spread_portfolio</td>\n",
       "    </tr>\n",
       "    <tr>\n",
       "      <th>4</th>\n",
       "      <td>0.132424</td>\n",
       "      <td>-1.504613</td>\n",
       "      <td>d_est_betas_portfolio</td>\n",
       "    </tr>\n",
       "    <tr>\n",
       "      <th>5</th>\n",
       "      <td>0.036968</td>\n",
       "      <td>-2.086120</td>\n",
       "      <td>d_betas_portfolio</td>\n",
       "    </tr>\n",
       "    <tr>\n",
       "      <th>6</th>\n",
       "      <td>0.066229</td>\n",
       "      <td>-1.836871</td>\n",
       "      <td>up_betas_portfolio</td>\n",
       "    </tr>\n",
       "  </tbody>\n",
       "</table>\n",
       "</div>"
      ],
      "text/plain": [
       "    p-value    t-stat                      beta\n",
       "0  0.024305 -2.252272      capm_betas_portfolio\n",
       "1  0.896789 -0.129719  beta_spread_up_portfolio\n",
       "2  0.528282 -0.630631   beta_spread_d_portfolio\n",
       "3  0.908185 -0.115328     beta_spread_portfolio\n",
       "4  0.132424 -1.504613     d_est_betas_portfolio\n",
       "5  0.036968 -2.086120         d_betas_portfolio\n",
       "6  0.066229 -1.836871        up_betas_portfolio"
      ]
     },
     "execution_count": 21,
     "metadata": {},
     "output_type": "execute_result"
    }
   ],
   "source": [
    "portfolio_test_HAC"
   ]
  },
  {
   "cell_type": "markdown",
   "metadata": {},
   "source": [
    "### Cross-section regression"
   ]
  },
  {
   "cell_type": "code",
   "execution_count": 22,
   "metadata": {
    "collapsed": false
   },
   "outputs": [],
   "source": [
    "def assign_nan(df, beta):\n",
    "    d = df.fillna(df.median())\n",
    "    d = d.replace(1, 1.01)\n",
    "    outliars = beta.isnull() # na\n",
    "    outliars.update(d, filter_func=lambda x: (x == False))\n",
    "    d = outliars.replace(1, float('nan'))\n",
    "    return d\n",
    "beta_frames['average_spread'] = assign_nan(average_spread,beta_frames['capm_betas'])\n",
    "beta_frames['mc'] = assign_nan(ln_market_value, beta_frames['capm_betas'])\n",
    "beta_frames['b_to_m'] = assign_nan(b_to_m, beta_frames['capm_betas'])\n",
    "beta_frames['up_betas'] = assign_nan(beta_frames['up_betas'],beta_frames['capm_betas'])\n",
    "beta_frames['mom_y'] = assign_nan(momentum_y, beta_frames['capm_betas'])\n",
    "beta_frames['mom_m'] = assign_nan(momentum_m, beta_frames['capm_betas'])"
   ]
  },
  {
   "cell_type": "code",
   "execution_count": 25,
   "metadata": {
    "collapsed": false
   },
   "outputs": [],
   "source": [
    "returns = return_frames['close_returns_m'] # в качестве объясняемой переменной берем месячные доходности\n",
    "r_f = pd.read_csv('C:/Py/Disser_data_trunc/Risk_f.csv', sep=';') # загружаем безрисковую доходность\n",
    "r_f = (pd.merge(r_f, months_control, how = 'inner', on = 'Data'))\n",
    "r_f_m = r_f['month_return']\n",
    "r_f_y = r_f['year_return']\n",
    "def excess_return(df, rf):\n",
    "    df = df[beta_frames['capm_betas'].columns].ix[1:, :]\n",
    "    d = pd.DataFrame()\n",
    "    for column in df:\n",
    "        d[column] = df[column].values - rf.values\n",
    "    return d\n",
    "reg_returns = excess_return(returns, r_f_m) # вычитаем безрисковую доходность"
   ]
  },
  {
   "cell_type": "code",
   "execution_count": 26,
   "metadata": {
    "collapsed": false
   },
   "outputs": [],
   "source": [
    "def cross_section(df, ind): # в качестве беты и контроля используем фреймы\n",
    "    colnames = ['Coef', 't-stat', 'p-value', 'R-sq-adj', 'Variables']\n",
    "    results = pd.DataFrame(columns = colnames)\n",
    "    x = np.empty((len(df.columns),0)) # 54 - количество колонок, то есть количество компаний\n",
    "    for i in ind: #для каждой переменной\n",
    "        mean = beta_frames[beta_frames.keys()[i]].mean()\n",
    "        x_i = mean.reshape(-1,1)\n",
    "        x = np.hstack((x, x_i))\n",
    "    y = df.mean().reshape(-1,1) # берем среднемесячную доходность\n",
    "    x = sm.tools.tools.add_constant(x)\n",
    "    model = smp.GLS(y, x)\n",
    "    res=model.fit()\n",
    "    results[colnames[0]] = res.params\n",
    "    results[colnames[1]] = res.tvalues\n",
    "    results[colnames[2]] = res.pvalues\n",
    "    results[colnames[3]] = res.rsquared_adj\n",
    "    results[colnames[4]] = ['Intercept'] + [beta_frames.keys()[i] for i in ind]\n",
    "    return results"
   ]
  },
  {
   "cell_type": "code",
   "execution_count": 28,
   "metadata": {
    "collapsed": false
   },
   "outputs": [
    {
     "data": {
      "text/html": [
       "<div>\n",
       "<table border=\"1\" class=\"dataframe\">\n",
       "  <thead>\n",
       "    <tr style=\"text-align: right;\">\n",
       "      <th></th>\n",
       "      <th>Coef</th>\n",
       "      <th>t-stat</th>\n",
       "      <th>p-value</th>\n",
       "      <th>R-sq-adj</th>\n",
       "      <th>Variables</th>\n",
       "    </tr>\n",
       "  </thead>\n",
       "  <tbody>\n",
       "    <tr>\n",
       "      <th>0</th>\n",
       "      <td>-0.038267</td>\n",
       "      <td>-2.785078</td>\n",
       "      <td>0.007690</td>\n",
       "      <td>0.316966</td>\n",
       "      <td>Intercept</td>\n",
       "    </tr>\n",
       "    <tr>\n",
       "      <th>1</th>\n",
       "      <td>0.004001</td>\n",
       "      <td>3.030352</td>\n",
       "      <td>0.003963</td>\n",
       "      <td>0.316966</td>\n",
       "      <td>mc</td>\n",
       "    </tr>\n",
       "    <tr>\n",
       "      <th>2</th>\n",
       "      <td>-0.002464</td>\n",
       "      <td>-2.162843</td>\n",
       "      <td>0.035673</td>\n",
       "      <td>0.316966</td>\n",
       "      <td>b_to_m</td>\n",
       "    </tr>\n",
       "    <tr>\n",
       "      <th>3</th>\n",
       "      <td>-0.014259</td>\n",
       "      <td>-1.820337</td>\n",
       "      <td>0.075078</td>\n",
       "      <td>0.316966</td>\n",
       "      <td>up_betas</td>\n",
       "    </tr>\n",
       "  </tbody>\n",
       "</table>\n",
       "</div>"
      ],
      "text/plain": [
       "       Coef    t-stat   p-value  R-sq-adj  Variables\n",
       "0 -0.038267 -2.785078  0.007690  0.316966  Intercept\n",
       "1  0.004001  3.030352  0.003963  0.316966         mc\n",
       "2 -0.002464 -2.162843  0.035673  0.316966     b_to_m\n",
       "3 -0.014259 -1.820337  0.075078  0.316966   up_betas"
      ]
     },
     "execution_count": 28,
     "metadata": {},
     "output_type": "execute_result"
    }
   ],
   "source": [
    "cross_section(reg_returns, [1,5,4])"
   ]
  },
  {
   "cell_type": "markdown",
   "metadata": {},
   "source": [
    "### Fama-Macbeth regression"
   ]
  },
  {
   "cell_type": "code",
   "execution_count": 29,
   "metadata": {
    "collapsed": false
   },
   "outputs": [],
   "source": [
    "# Годовые доходности\n",
    "returns= return_frames['close_returns_y_m']\n",
    "reg_returns = excess_return(returns, r_f_y) # вычитаем безрисковую доходность "
   ]
  },
  {
   "cell_type": "code",
   "execution_count": 37,
   "metadata": {
    "collapsed": false
   },
   "outputs": [],
   "source": [
    "# доходности с лагом в год\n",
    "r = return_frames['close_returns_y_m']\n",
    "returns= r.ix[13:,:].reset_index(drop=True)\n",
    "r_f_tr = r_f_m.ix[13:].reset_index(drop=True)\n",
    "reg_returns = excess_return(returns, r_f_tr) # вычитаем безрисковую доходность "
   ]
  },
  {
   "cell_type": "code",
   "execution_count": 38,
   "metadata": {
    "collapsed": true
   },
   "outputs": [],
   "source": [
    "# бета для проверки модели с лагами\n",
    "beta_frames_tr = {}\n",
    "for k, df in beta_frames.iteritems():\n",
    "    beta_frames_tr[k] = df.ix[0:(len(df)-14),:]"
   ]
  },
  {
   "cell_type": "code",
   "execution_count": null,
   "metadata": {
    "collapsed": false
   },
   "outputs": [],
   "source": []
  },
  {
   "cell_type": "code",
   "execution_count": 32,
   "metadata": {
    "collapsed": false
   },
   "outputs": [],
   "source": [
    "def fb_regression(df, ind):\n",
    "    df = assign_nan(df, beta_frames['d_betas'])\n",
    "    colnames = ['Intercept']+[beta_frames.keys()[i] for i in ind]\n",
    "    results = pd.DataFrame()\n",
    "    r_sq = []\n",
    "    for t in range(0,len(df)-1):\n",
    "        y = df.loc[t].dropna()\n",
    "        x = np.empty((len(y),0)) # кол-во колонок за вычетом nan\n",
    "        for i in ind: #для каждой переменной\n",
    "            var = beta_frames[beta_frames.keys()[i]].loc[t].dropna()\n",
    "            x_i = var.reshape(-1,1)\n",
    "            x = np.hstack((x, x_i))\n",
    "        x = sm.tools.tools.add_constant(x)\n",
    "        model = smp.OLS(y, x)\n",
    "        res=model.fit()\n",
    "        res_t = pd.DataFrame([res.params], ['month '+str(t)])\n",
    "        r_sq.append(res.rsquared_adj)\n",
    "        results = results.append(res_t)\n",
    "    results.columns = colnames\n",
    "    means = {}\n",
    "    for x in results.columns:\n",
    "        means[x] = smf.ols(formula=x + ' ~ 1',  data=results[[x]]).fit(cov_type='HAC', cov_kwds={'maxlags': 11}, use_t=True) #\n",
    "    params = []\n",
    "    stderrs = []\n",
    "    tvalues = []\n",
    "    pvalues = []\n",
    "    for x in means.keys():\n",
    "        params.append(means[x].params['Intercept'])\n",
    "        stderrs.append(means[x].bse['Intercept'])\n",
    "        tvalues.append(means[x].tvalues['Intercept'])\n",
    "        pvalues.append(means[x].pvalues['Intercept'])\n",
    "    fb_results = pd.DataFrame(data = np.matrix([params,stderrs, tvalues, pvalues]), columns = means.keys(), index = ['coef', 'st.er','t-st', 'p-val'])\n",
    "    return fb_results, np.mean(r_sq)"
   ]
  },
  {
   "cell_type": "code",
   "execution_count": null,
   "metadata": {
    "collapsed": true
   },
   "outputs": [],
   "source": []
  },
  {
   "cell_type": "code",
   "execution_count": 87,
   "metadata": {
    "collapsed": false
   },
   "outputs": [],
   "source": [
    "fb_results = fb_regression(reg_returns, [11, 5,4])[0]\n",
    "mean_r_squared = fb_regression(reg_returns, [11])[1]"
   ]
  },
  {
   "cell_type": "code",
   "execution_count": 88,
   "metadata": {
    "collapsed": false
   },
   "outputs": [
    {
     "data": {
      "text/html": [
       "<div>\n",
       "<table border=\"1\" class=\"dataframe\">\n",
       "  <thead>\n",
       "    <tr style=\"text-align: right;\">\n",
       "      <th></th>\n",
       "      <th>b_to_m</th>\n",
       "      <th>up_betas</th>\n",
       "      <th>Intercept</th>\n",
       "      <th>d_betas</th>\n",
       "    </tr>\n",
       "  </thead>\n",
       "  <tbody>\n",
       "    <tr>\n",
       "      <th>coef</th>\n",
       "      <td>-0.032492</td>\n",
       "      <td>-0.001898</td>\n",
       "      <td>0.102064</td>\n",
       "      <td>-0.080043</td>\n",
       "    </tr>\n",
       "    <tr>\n",
       "      <th>st.er</th>\n",
       "      <td>0.021684</td>\n",
       "      <td>0.029106</td>\n",
       "      <td>0.031896</td>\n",
       "      <td>0.027680</td>\n",
       "    </tr>\n",
       "    <tr>\n",
       "      <th>t-st</th>\n",
       "      <td>-1.498483</td>\n",
       "      <td>-0.065200</td>\n",
       "      <td>3.199896</td>\n",
       "      <td>-2.891743</td>\n",
       "    </tr>\n",
       "    <tr>\n",
       "      <th>p-val</th>\n",
       "      <td>0.138504</td>\n",
       "      <td>0.948201</td>\n",
       "      <td>0.002067</td>\n",
       "      <td>0.005100</td>\n",
       "    </tr>\n",
       "  </tbody>\n",
       "</table>\n",
       "</div>"
      ],
      "text/plain": [
       "         b_to_m  up_betas  Intercept   d_betas\n",
       "coef  -0.032492 -0.001898   0.102064 -0.080043\n",
       "st.er  0.021684  0.029106   0.031896  0.027680\n",
       "t-st  -1.498483 -0.065200   3.199896 -2.891743\n",
       "p-val  0.138504  0.948201   0.002067  0.005100"
      ]
     },
     "execution_count": 88,
     "metadata": {},
     "output_type": "execute_result"
    }
   ],
   "source": [
    "fb_results"
   ]
  },
  {
   "cell_type": "code",
   "execution_count": 81,
   "metadata": {
    "collapsed": false
   },
   "outputs": [],
   "source": [
    "# корреляционная матрица регрессоров\n",
    "multi= pd.DataFrame()\n",
    "for k, df in beta_frames.iteritems():\n",
    "        multi[k] = df.mean()\n",
    "beta_corr = multi.corr()\n",
    "beta_corr.to_csv('C:/Py/disser_output/beta_corr.csv', index = False, sep = ',')"
   ]
  },
  {
   "cell_type": "markdown",
   "metadata": {},
   "source": [
    "## Построение портфельной стратегии"
   ]
  },
  {
   "cell_type": "code",
   "execution_count": 41,
   "metadata": {
    "collapsed": false
   },
   "outputs": [],
   "source": [
    "# все показатели приводятся в соотвтествие так, чтобы мы брали в расчет только реализованные значения\n",
    "mc = beta_frames['mc'][:-1]\n",
    "liq = beta_frames['average_spread'][:-1]\n",
    "bm = beta_frames['b_to_m'][:-1]\n",
    "bm = beta_frames['b_to_m'][:-1]\n",
    "returns_b = return_frames['close_returns_m']\n",
    "returns_b = returns_b.loc[1:].reset_index(drop=True)\n",
    "mom = beta_frames['mom_m'][1:].reset_index(drop=True)\n",
    "mom = assign_nan(mom, mc)\n",
    "returns_b = assign_nan(returns_b, mc)\n",
    "beta = beta_frames['up_betas'][:-1]\n",
    "\n",
    "# первоначальные веса w_0 зависят от доли рыночной капитализации актива\n",
    "w_0 = pd.DataFrame(columns=mc.columns)\n",
    "for i in range(0,len(mc)):\n",
    "    w_0.loc[i] = mc.loc[i]/mc.loc[i].sum()"
   ]
  },
  {
   "cell_type": "code",
   "execution_count": 89,
   "metadata": {
    "collapsed": false
   },
   "outputs": [],
   "source": [
    "# средняя доходность за весь промежуток времени\n",
    "returns = pd.DataFrame(columns = returns_b.columns)\n",
    "for i in range(0, len(returns_b)):\n",
    "    returns.loc[i] =  returns_b.ix[:i, :].mean()"
   ]
  },
  {
   "cell_type": "markdown",
   "metadata": {},
   "source": [
    "### Оптимизация out of sample (Brandth and Santa-Clara model)"
   ]
  },
  {
   "cell_type": "code",
   "execution_count": 65,
   "metadata": {
    "collapsed": false
   },
   "outputs": [],
   "source": [
    "gc.collect()\n",
    "t_start = 23 # 1 января 2013 г.\n",
    "t_end = 71   # 31 декабря 2016 г."
   ]
  },
  {
   "cell_type": "code",
   "execution_count": 66,
   "metadata": {
    "collapsed": false
   },
   "outputs": [],
   "source": [
    "# Определяем функцию полезности, которую будем оптимизировать\n",
    "def f(x,t):\n",
    "    portfolio_return = []\n",
    "    w = np.asarray(w_0.loc[t].dropna()) + x[0]*np.array(mc.loc[t].dropna()) + x[1]*np.array(liq.loc[t].dropna()) + x[2]*np.array(beta.loc[t].dropna()) + x[3]*np.array(bm.loc[t].dropna()) + x[4]*np.array(mom.loc[t].dropna())\n",
    "    stock_returns = w*returns.loc[t].dropna()\n",
    "    p_return = stock_returns.sum()\n",
    "    utility = (1/((1+p_return)**4))/4 \n",
    "    #utility = -p_return\n",
    "    return utility\n",
    "# Вводим ограничения\n",
    "def c_1(x,t):\n",
    "    w = list(w_0.loc[t].dropna()) + x[0]*np.array(mc.loc[t].dropna()) + x[1]*np.array(liq.loc[t].dropna()) + x[2]*np.array(beta.loc[t].dropna()) + x[3]*np.array(bm.loc[t].dropna()) + x[4]*np.array(mom.loc[t].dropna())\n",
    "    stock_returns = (w/w.sum())*returns.loc[t].dropna()\n",
    "    ret = stock_returns.sum()+1\n",
    "    return np.hstack((w, ret))\n",
    "def eq_1(x,t):\n",
    "    w = np.asarray(w_0.loc[t].dropna()) + x[0]*np.array(mc.loc[t].dropna()) + x[1]*np.array(liq.loc[t].dropna()) + x[2]*np.array(beta.loc[t].dropna()) + x[3]*np.array(bm.loc[t].dropna()) + x[4]*np.array(mom.loc[t].dropna())\n",
    "    stock_returns = (w/w.sum())*returns.loc[t].dropna()\n",
    "    w_sum = 1-w.sum()\n",
    "    return w_sum"
   ]
  },
  {
   "cell_type": "code",
   "execution_count": null,
   "metadata": {
    "collapsed": true
   },
   "outputs": [],
   "source": [
    "# Рассчитываем результаты стратегии. Метод оптимизации - SLSQP\n",
    "\n",
    "x_values = pd.DataFrame(columns=['mc','liq','beta', 'bm', 'mom'])\n",
    "portfolio_return = []\n",
    "for t in range(t_start,70):\n",
    "    x = optimize.fmin_slsqp(f, [0.5, 1, -0.25, -0.02, 1], f_eqcons=eq_1,  f_ieqcons=c_1, args=(t,), iter=100, epsilon=1e-10) # определяю параметры на estimation window\n",
    "    x_values.loc[t] = x\n",
    "    # считаю доходности портфеля в период t+1, который сформировался исходя из оцененных параметров\n",
    "    w = np.array(w_0.loc[t+1].dropna()) + x[0]*np.array(mc.loc[t+1].dropna()) + x[1]*np.array(liq.loc[t+1].dropna()) + x[2]*np.array(beta.loc[t+1].dropna()) + x[3]*np.array(bm.loc[t+1].dropna()) + x[4]*np.array(mom.loc[t+1].dropna())\n",
    "    stock_returns = (w/w.sum())*returns_b.loc[t+1].dropna()\n",
    "    p_return = stock_returns.sum()\n",
    "    portfolio_return.append(p_return)\n",
    "    gc.collect()"
   ]
  },
  {
   "cell_type": "code",
   "execution_count": 68,
   "metadata": {
    "collapsed": false
   },
   "outputs": [
    {
     "data": {
      "text/plain": [
       "mc      0.011242\n",
       "liq    -0.092417\n",
       "beta   -0.009291\n",
       "bm     -0.001794\n",
       "mom     0.063087\n",
       "dtype: float64"
      ]
     },
     "execution_count": 68,
     "metadata": {},
     "output_type": "execute_result"
    }
   ],
   "source": [
    "# Какие коэффициенты присваиваются характеристикам компании\n",
    "x_values.mean()"
   ]
  },
  {
   "cell_type": "code",
   "execution_count": 69,
   "metadata": {
    "collapsed": false
   },
   "outputs": [],
   "source": [
    "# Безрисковая доходность, чтобы подсчитать сверх-доходность портфеля\n",
    "r_f_p = r_f_m.ix[t_start+1:].reset_index(drop=True)\n",
    "excess_return = portfolio_return-r_f_p\n",
    "c = (np.asarray(portfolio_return))\n",
    "p_av = np.mean(excess_return)\n",
    "p_annual = ((1+p_av)**12)-1\n",
    "c = c+1\n",
    "p_cum = ((np.cumprod(c))-1)[len(c)-1]\n",
    "p_std = np.sqrt(12)*np.std(excess_return)\n",
    "sharp_coef = p_annual/p_std"
   ]
  },
  {
   "cell_type": "code",
   "execution_count": 70,
   "metadata": {
    "collapsed": false
   },
   "outputs": [],
   "source": [
    "strategy_results = pd.DataFrame([[p_annual, p_cum, p_std, sharp_coef, 'SC-model']], columns= ['annual excess return', 'cummulative', 'st.dev','sharp coef', 'type'])"
   ]
  },
  {
   "cell_type": "code",
   "execution_count": 71,
   "metadata": {
    "collapsed": false
   },
   "outputs": [
    {
     "data": {
      "text/html": [
       "<div>\n",
       "<table border=\"1\" class=\"dataframe\">\n",
       "  <thead>\n",
       "    <tr style=\"text-align: right;\">\n",
       "      <th></th>\n",
       "      <th>annual excess return</th>\n",
       "      <th>cummulative</th>\n",
       "      <th>st.dev</th>\n",
       "      <th>sharp coef</th>\n",
       "      <th>type</th>\n",
       "    </tr>\n",
       "  </thead>\n",
       "  <tbody>\n",
       "    <tr>\n",
       "      <th>0</th>\n",
       "      <td>0.028551</td>\n",
       "      <td>0.456905</td>\n",
       "      <td>0.149195</td>\n",
       "      <td>0.191369</td>\n",
       "      <td>SC-model</td>\n",
       "    </tr>\n",
       "  </tbody>\n",
       "</table>\n",
       "</div>"
      ],
      "text/plain": [
       "   annual excess return  cummulative    st.dev  sharp coef      type\n",
       "0              0.028551     0.456905  0.149195    0.191369  SC-model"
      ]
     },
     "execution_count": 71,
     "metadata": {},
     "output_type": "execute_result"
    }
   ],
   "source": [
    "strategy_results"
   ]
  },
  {
   "cell_type": "markdown",
   "metadata": {},
   "source": [
    "####Взвешенный по капитализации"
   ]
  },
  {
   "cell_type": "code",
   "execution_count": 73,
   "metadata": {
    "collapsed": false
   },
   "outputs": [],
   "source": [
    "stock_returns = pd.DataFrame(w_0.ix[t_start+1:,:].values*returns_b.ix[t_start+1:,:].values, columns = w_0.columns)\n",
    "val_returns = (stock_returns.sum(axis = 1))\n",
    "excess_r =  val_returns - r_f_p\n",
    "p_av = np.mean(excess_r)\n",
    "p_annual = ((1+p_av)**12)-1\n",
    "c = (np.asarray(val_returns))\n",
    "c = c+1\n",
    "cum_VV = (np.cumprod(c))-1\n",
    "p_cum = ((np.cumprod(c))-1)[len(c)-1]\n",
    "p_std = np.sqrt(12)*np.std(excess_r)\n",
    "sharp_coef = p_annual/p_std\n",
    "strategy_results.loc[1] = [p_annual, p_cum, p_std, sharp_coef, 'VV-model']"
   ]
  },
  {
   "cell_type": "code",
   "execution_count": 76,
   "metadata": {
    "collapsed": false
   },
   "outputs": [
    {
     "data": {
      "text/html": [
       "<div>\n",
       "<table border=\"1\" class=\"dataframe\">\n",
       "  <thead>\n",
       "    <tr style=\"text-align: right;\">\n",
       "      <th></th>\n",
       "      <th>annual excess return</th>\n",
       "      <th>cummulative</th>\n",
       "      <th>st.dev</th>\n",
       "      <th>sharp coef</th>\n",
       "      <th>type</th>\n",
       "    </tr>\n",
       "  </thead>\n",
       "  <tbody>\n",
       "    <tr>\n",
       "      <th>0</th>\n",
       "      <td>0.028551</td>\n",
       "      <td>0.456905</td>\n",
       "      <td>0.149195</td>\n",
       "      <td>0.191369</td>\n",
       "      <td>SC-model</td>\n",
       "    </tr>\n",
       "    <tr>\n",
       "      <th>1</th>\n",
       "      <td>0.003447</td>\n",
       "      <td>0.311617</td>\n",
       "      <td>0.162253</td>\n",
       "      <td>0.021243</td>\n",
       "      <td>VV-model</td>\n",
       "    </tr>\n",
       "  </tbody>\n",
       "</table>\n",
       "</div>"
      ],
      "text/plain": [
       "   annual excess return  cummulative    st.dev  sharp coef      type\n",
       "0              0.028551     0.456905  0.149195    0.191369  SC-model\n",
       "1              0.003447     0.311617  0.162253    0.021243  VV-model"
      ]
     },
     "execution_count": 76,
     "metadata": {},
     "output_type": "execute_result"
    }
   ],
   "source": [
    "strategy_results"
   ]
  },
  {
   "cell_type": "markdown",
   "metadata": {},
   "source": [
    "#### Средневзвешенный портфель"
   ]
  },
  {
   "cell_type": "code",
   "execution_count": 77,
   "metadata": {
    "collapsed": false
   },
   "outputs": [],
   "source": [
    "w_eq = pd.DataFrame(columns=mc.columns)\n",
    "for i in range(0,len(mc)):\n",
    "    w_eq.loc[i] = 1/len(mc.loc[i].dropna())\n",
    "stock_returns = pd.DataFrame(w_eq.ix[t_start+1:,:].values*returns_b.ix[t_start+1:,:].values, columns = w_eq.columns)\n",
    "eq_returns = stock_returns.sum(axis = 1)\n",
    "excess_r =  eq_returns\n",
    "p_av = np.mean(excess_r-r_f_p)\n",
    "p_annual = ((1+p_av)**12)-1\n",
    "c = (np.asarray(eq_returns))\n",
    "c = c+1\n",
    "p_cum = ((np.cumprod(c))-1)[len(c)-1]\n",
    "cum_EV = (np.cumprod(c))-1\n",
    "p_std = np.sqrt(12)*np.std(excess_r)\n",
    "sharp_coef = p_annual/p_std\n",
    "strategy_results.loc[2] = [p_annual, p_cum, p_std, sharp_coef, 'EV-model']"
   ]
  },
  {
   "cell_type": "code",
   "execution_count": 78,
   "metadata": {
    "collapsed": false
   },
   "outputs": [
    {
     "data": {
      "text/html": [
       "<div>\n",
       "<table border=\"1\" class=\"dataframe\">\n",
       "  <thead>\n",
       "    <tr style=\"text-align: right;\">\n",
       "      <th></th>\n",
       "      <th>annual excess return</th>\n",
       "      <th>cummulative</th>\n",
       "      <th>st.dev</th>\n",
       "      <th>sharp coef</th>\n",
       "      <th>type</th>\n",
       "    </tr>\n",
       "  </thead>\n",
       "  <tbody>\n",
       "    <tr>\n",
       "      <th>0</th>\n",
       "      <td>0.028551</td>\n",
       "      <td>0.456905</td>\n",
       "      <td>0.149195</td>\n",
       "      <td>0.191369</td>\n",
       "      <td>SC-model</td>\n",
       "    </tr>\n",
       "    <tr>\n",
       "      <th>1</th>\n",
       "      <td>0.003447</td>\n",
       "      <td>0.311617</td>\n",
       "      <td>0.162253</td>\n",
       "      <td>0.021243</td>\n",
       "      <td>VV-model</td>\n",
       "    </tr>\n",
       "    <tr>\n",
       "      <th>2</th>\n",
       "      <td>0.003133</td>\n",
       "      <td>0.308295</td>\n",
       "      <td>0.166926</td>\n",
       "      <td>0.018767</td>\n",
       "      <td>EV-model</td>\n",
       "    </tr>\n",
       "  </tbody>\n",
       "</table>\n",
       "</div>"
      ],
      "text/plain": [
       "   annual excess return  cummulative    st.dev  sharp coef      type\n",
       "0              0.028551     0.456905  0.149195    0.191369  SC-model\n",
       "1              0.003447     0.311617  0.162253    0.021243  VV-model\n",
       "2              0.003133     0.308295  0.166926    0.018767  EV-model"
      ]
     },
     "execution_count": 78,
     "metadata": {},
     "output_type": "execute_result"
    }
   ],
   "source": [
    "strategy_results"
   ]
  },
  {
   "cell_type": "markdown",
   "metadata": {},
   "source": [
    "#### Взвешенный по бете портфель"
   ]
  },
  {
   "cell_type": "code",
   "execution_count": 79,
   "metadata": {
    "collapsed": true
   },
   "outputs": [],
   "source": [
    "beta = pd.DataFrame(1/((1+beta_frames['up_betas'].values)), columns = beta_frames['d_betas'].columns)\n",
    "w_beta = pd.DataFrame(columns=beta.columns)\n",
    "for i in range(0,len(beta)):\n",
    "    w_beta.loc[i] = beta.loc[i]/beta.loc[i].sum()\n",
    "stock_returns = pd.DataFrame(w_beta.ix[t_start+1:len(w_beta)-2,:].values*returns_b.ix[t_start+1:,:].values, columns = w_beta.columns)\n",
    "val_returns = (stock_returns.sum(axis = 1))\n",
    "excess_r =  val_returns - r_f_p\n",
    "p_av = np.mean(excess_r)\n",
    "p_annual = ((1+p_av)**12)-1\n",
    "c = (np.asarray(val_returns))\n",
    "c = c+1\n",
    "p_cum = ((np.cumprod(c))-1)[len(c)-1]\n",
    "cum_BV = (np.cumprod(c))-1\n",
    "p_std = np.sqrt(12)*np.std(excess_r)\n",
    "sharp_coef = p_annual/p_std\n",
    "strategy_results.loc[3] = [p_annual, p_cum, p_std, sharp_coef, 'BV-model']"
   ]
  },
  {
   "cell_type": "code",
   "execution_count": 80,
   "metadata": {
    "collapsed": false
   },
   "outputs": [
    {
     "data": {
      "text/html": [
       "<div>\n",
       "<table border=\"1\" class=\"dataframe\">\n",
       "  <thead>\n",
       "    <tr style=\"text-align: right;\">\n",
       "      <th></th>\n",
       "      <th>annual excess return</th>\n",
       "      <th>cummulative</th>\n",
       "      <th>st.dev</th>\n",
       "      <th>sharp coef</th>\n",
       "      <th>type</th>\n",
       "    </tr>\n",
       "  </thead>\n",
       "  <tbody>\n",
       "    <tr>\n",
       "      <th>0</th>\n",
       "      <td>0.028551</td>\n",
       "      <td>0.456905</td>\n",
       "      <td>0.149195</td>\n",
       "      <td>0.191369</td>\n",
       "      <td>SC-model</td>\n",
       "    </tr>\n",
       "    <tr>\n",
       "      <th>1</th>\n",
       "      <td>0.003447</td>\n",
       "      <td>0.311617</td>\n",
       "      <td>0.162253</td>\n",
       "      <td>0.021243</td>\n",
       "      <td>VV-model</td>\n",
       "    </tr>\n",
       "    <tr>\n",
       "      <th>2</th>\n",
       "      <td>0.003133</td>\n",
       "      <td>0.308295</td>\n",
       "      <td>0.166926</td>\n",
       "      <td>0.018767</td>\n",
       "      <td>EV-model</td>\n",
       "    </tr>\n",
       "    <tr>\n",
       "      <th>3</th>\n",
       "      <td>0.016136</td>\n",
       "      <td>0.381950</td>\n",
       "      <td>0.156850</td>\n",
       "      <td>0.102878</td>\n",
       "      <td>BV-model</td>\n",
       "    </tr>\n",
       "  </tbody>\n",
       "</table>\n",
       "</div>"
      ],
      "text/plain": [
       "   annual excess return  cummulative    st.dev  sharp coef      type\n",
       "0              0.028551     0.456905  0.149195    0.191369  SC-model\n",
       "1              0.003447     0.311617  0.162253    0.021243  VV-model\n",
       "2              0.003133     0.308295  0.166926    0.018767  EV-model\n",
       "3              0.016136     0.381950  0.156850    0.102878  BV-model"
      ]
     },
     "execution_count": 80,
     "metadata": {},
     "output_type": "execute_result"
    }
   ],
   "source": [
    "strategy_results"
   ]
  }
 ],
 "metadata": {
  "kernelspec": {
   "display_name": "Python 2",
   "language": "python",
   "name": "python2"
  },
  "language_info": {
   "codemirror_mode": {
    "name": "ipython",
    "version": 2
   },
   "file_extension": ".py",
   "mimetype": "text/x-python",
   "name": "python",
   "nbconvert_exporter": "python",
   "pygments_lexer": "ipython2",
   "version": "2.7.11"
  }
 },
 "nbformat": 4,
 "nbformat_minor": 1
}
